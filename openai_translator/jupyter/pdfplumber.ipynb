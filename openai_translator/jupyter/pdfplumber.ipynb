{
 "cells": [
  {
   "cell_type": "code",
   "execution_count": 2,
   "id": "e61a6cd6-2b7e-43f9-a5ea-f0fa286577ff",
   "metadata": {},
   "outputs": [],
   "source": [
    "import pdfplumber\n",
    "\n",
    "pdf = pdfplumber.open(\"The_Old_Man_of_the_Sea.pdf\")"
   ]
  },
  {
   "cell_type": "code",
   "execution_count": 3,
   "id": "d160b7c8-3d07-483d-9a41-4ace6d78084b",
   "metadata": {},
   "outputs": [
    {
     "data": {
      "text/plain": [
       "{'CreationDate': \"D:20060717205532+08'00'\",\n",
       " 'Subject': 'For Personal Learning!',\n",
       " 'Author': 'Asiaing.com',\n",
       " 'Creator': 'PScript5.dll Version 5.2',\n",
       " 'Producer': 'Acrobat Distiller 7.0.5 (Windows)',\n",
       " 'ModDate': \"D:20060717210222+08'00'\",\n",
       " 'Title': 'Hemingway, Ernest - The Old Man and the Sea'}"
      ]
     },
     "execution_count": 3,
     "metadata": {},
     "output_type": "execute_result"
    }
   ],
   "source": [
    "pdf.metadata"
   ]
  },
  {
   "cell_type": "code",
   "execution_count": 4,
   "id": "04eb460a-0a9e-4cfc-9736-b0c70ae79ea0",
   "metadata": {},
   "outputs": [
    {
     "name": "stdout",
     "output_type": "stream",
     "text": [
      "[<Page:1>, <Page:2>]\n"
     ]
    }
   ],
   "source": [
    "pdf = pdfplumber.open(\"test.pdf\")\n",
    "pages = pdf.pages\n",
    "print(pages)"
   ]
  },
  {
   "cell_type": "code",
   "execution_count": 6,
   "id": "d4877531-6c6a-429b-b40c-5a6b895f1a84",
   "metadata": {},
   "outputs": [
    {
     "name": "stdout",
     "output_type": "stream",
     "text": [
      "Test Data\n",
      "This dataset contains two test samples provided by ChatGPT, an AI language model by OpenAI.\n",
      "These samples include a markdown table and an English text passage, which can be used to test an\n",
      "English-to-Chinese translation software supporting both text and table formats.\n",
      "Text testing\n",
      "The quick brown fox jumps over the lazy dog. This pangram contains every letter of the English\n",
      "alphabet at least once. Pangrams are often used to test fonts, keyboards, and other text-related\n",
      "tools. In addition to English, there are pangrams in many other languages. Some pangrams are more\n",
      "difficult to construct due to the unique characteristics of the language.\n",
      "Table Testing\n",
      "Fruit Color Price (USD)\n",
      "Apple Red 1.20\n",
      "Banana Yellow 0.50\n",
      "Orange Orange 0.80\n",
      "Strawberry Red 2.50\n",
      "Blueberry Blue 3.00\n",
      "Kiwi Green 1.00\n",
      "Mango Orange 1.50\n",
      "Grape Purple 2.00\n"
     ]
    }
   ],
   "source": [
    "p1_text = pages[0].extract_text()\n",
    "\n",
    "print(p1_text)"
   ]
  },
  {
   "cell_type": "code",
   "execution_count": 7,
   "id": "fa6c71a8-fa06-4042-b6b6-2afb43276303",
   "metadata": {},
   "outputs": [
    {
     "name": "stdout",
     "output_type": "stream",
     "text": [
      "                                                                                  \n",
      "                                                                                  \n",
      "                                                                                  \n",
      "                                                                                  \n",
      "                                                                                  \n",
      "                                                                                  \n",
      "                                                                                  \n",
      "        Test    Data                                                              \n",
      "                                                                                  \n",
      "                                                                                  \n",
      "                                                                                  \n",
      "        This dataset contains two test samples provided by ChatGPT, an AI language model by OpenAI.\n",
      "        These samples include a markdown table and an English text passage, which can be used to test an\n",
      "        English-to-Chinese translation software supporting both text and table formats.\n",
      "                                                                                  \n",
      "                                                                                  \n",
      "        Text  testing                                                             \n",
      "                                                                                  \n",
      "                                                                                  \n",
      "        The quick brown fox jumps over the lazy dog. This pangram contains every letter of the English\n",
      "        alphabet at least once. Pangrams are often used to test fonts, keyboards, and other text-related\n",
      "        tools. In addition to English, there are pangrams in many other languages. Some pangrams are more\n",
      "                                                                                  \n",
      "        difficult to construct due to the unique characteristics of the language. \n",
      "                                                                                  \n",
      "        Table  Testing                                                            \n",
      "                                                                                  \n",
      "                                                                                  \n",
      "          Fruit                  Color            Price (USD)                     \n",
      "                                                                                  \n",
      "          Apple                  Red              1.20                            \n",
      "                                                                                  \n",
      "          Banana                 Yellow           0.50                            \n",
      "                                                                                  \n",
      "          Orange                 Orange           0.80                            \n",
      "                                                                                  \n",
      "          Strawberry             Red              2.50                            \n",
      "                                                                                  \n",
      "          Blueberry              Blue             3.00                            \n",
      "                                                                                  \n",
      "          Kiwi                   Green            1.00                            \n",
      "                                                                                  \n",
      "          Mango                  Orange           1.50                            \n",
      "                                                                                  \n",
      "          Grape                  Purple           2.00                            \n",
      "                                                                                  \n",
      "                                                                                  \n",
      "                                                                                  \n",
      "                                                                                  \n",
      "                                                                                  \n",
      "                                                                                  \n",
      "                                                                                  \n",
      "                                                                                  \n",
      "                                                                                  \n",
      "                                                                                  \n",
      "                                                                                  \n",
      "                                                                                  \n",
      "                                                                                  \n",
      "                                                                                  \n",
      "                                                                                  \n",
      "                                                                                  \n",
      "                                                                                  \n",
      "                                                                                  \n",
      "                                                                                  \n"
     ]
    }
   ],
   "source": [
    "p1_text = pages[0].extract_text(layout=True)\n",
    "print(p1_text)"
   ]
  },
  {
   "cell_type": "code",
   "execution_count": 8,
   "id": "9a0b2805-c540-4cfd-85f6-bc3dd3d89e86",
   "metadata": {},
   "outputs": [
    {
     "data": {
      "text/plain": [
       "[['Fruit', 'Color', 'Price (USD)'],\n",
       " ['Apple', 'Red', '1.20'],\n",
       " ['Banana', 'Yellow', '0.50'],\n",
       " ['Orange', 'Orange', '0.80'],\n",
       " ['Strawberry', 'Red', '2.50'],\n",
       " ['Blueberry', 'Blue', '3.00'],\n",
       " ['Kiwi', 'Green', '1.00'],\n",
       " ['Mango', 'Orange', '1.50'],\n",
       " ['Grape', 'Purple', '2.00']]"
      ]
     },
     "execution_count": 8,
     "metadata": {},
     "output_type": "execute_result"
    }
   ],
   "source": [
    "p1_table = pages[0].extract_table()\n",
    "p1_table"
   ]
  },
  {
   "cell_type": "code",
   "execution_count": null,
   "id": "feacc9c3-2658-474b-bfde-828f6d0693d4",
   "metadata": {},
   "outputs": [],
   "source": []
  }
 ],
 "metadata": {
  "kernelspec": {
   "display_name": "Python 3 (ipykernel)",
   "language": "python",
   "name": "python3"
  },
  "language_info": {
   "codemirror_mode": {
    "name": "ipython",
    "version": 3
   },
   "file_extension": ".py",
   "mimetype": "text/x-python",
   "name": "python",
   "nbconvert_exporter": "python",
   "pygments_lexer": "ipython3",
   "version": "3.10.16"
  }
 },
 "nbformat": 4,
 "nbformat_minor": 5
}

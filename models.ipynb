{
 "cells": [
  {
   "cell_type": "code",
   "execution_count": 8,
   "id": "f5639ed6-6250-471a-9c46-4cdef5f07220",
   "metadata": {},
   "outputs": [],
   "source": [
    "import os\n",
    "from openai import OpenAI\n",
    "\n",
    "def model_client(messages):\n",
    "    client = OpenAI(\n",
    "        #api_key = os.getenv(\"DASHSCOPE_API_KEY\"),\n",
    "        api_key = \"sk-81c01436f2784241a5d94f2c4fb14cbf\",\n",
    "        base_url = \"https://dashscope.aliyuncs.com/compatible-mode/v1\"\n",
    "    )\n",
    "    completion = client.chat.completions.create(\n",
    "        model = \"qwen-plus\",\n",
    "        messages = messages,\n",
    "        #stream=True,\n",
    "        temperature=0.1\n",
    "    )\n",
    "    return completion"
   ]
  },
  {
   "cell_type": "code",
   "execution_count": 9,
   "id": "3429e8df-f5f5-45dd-b18d-e1ee43be2a4b",
   "metadata": {},
   "outputs": [
    {
     "name": "stdout",
     "output_type": "stream",
     "text": [
      "2008年夏季奥运会是在中国北京举行的。这届奥运会从8月8日开幕，到8月24日闭幕，共历时17天。北京奥运会设置了28个大项、302个小项的比赛，吸引了来自204个国家和地区的运动员参加，是中国首次举办夏季奥林匹克运动会。北京也由此成为首个既举办过夏季奥运会（2008年），又举办过冬季奥运会（2022年）的“双奥之城”。\n"
     ]
    }
   ],
   "source": [
    "messages = [\n",
    "    {'role': 'system', 'content': '你是一个乐于助人的体育界专家。'},\n",
    "    {'role': 'user', 'content': '2008年奥运会是在哪里举行的？'}\n",
    "]\n",
    "answer = model_client(messages)\n",
    "print(answer.choices[0].message.content)"
   ]
  },
  {
   "cell_type": "code",
   "execution_count": 10,
   "id": "583a427d-755d-43fd-891b-3a87ee4c3edf",
   "metadata": {},
   "outputs": [],
   "source": [
    "messages.append({'role': 'assistant', 'content': '2008年夏季奥运会是在中国北京举行的。这届奥运会从8月8日开幕，到8月24日闭幕，共吸引了来自204个国家和地区的1万多名运动员参与，是当时规模最大的一届奥运会之一。北京奥运会以“绿色奥运、科技奥运、人文奥运”为核心理念，给全世界留下了深刻印象。同时，北京也成为了首个既举办过夏季奥运会（2008年），又举办过冬季奥运会（2022年）的城市。'})"
   ]
  },
  {
   "cell_type": "code",
   "execution_count": 11,
   "id": "46bc8ad0-4dd5-43bf-b5b9-c572616b1627",
   "metadata": {},
   "outputs": [
    {
     "data": {
      "text/plain": [
       "[{'role': 'system', 'content': '你是一个乐于助人的体育界专家。'},\n",
       " {'role': 'user', 'content': '2008年奥运会是在哪里举行的？'},\n",
       " {'role': 'assistant',\n",
       "  'content': '2008年夏季奥运会是在中国北京举行的。这届奥运会从8月8日开幕，到8月24日闭幕，共吸引了来自204个国家和地区的1万多名运动员参与，是当时规模最大的一届奥运会之一。北京奥运会以“绿色奥运、科技奥运、人文奥运”为核心理念，给全世界留下了深刻印象。同时，北京也成为了首个既举办过夏季奥运会（2008年），又举办过冬季奥运会（2022年）的城市。'}]"
      ]
     },
     "execution_count": 11,
     "metadata": {},
     "output_type": "execute_result"
    }
   ],
   "source": [
    "messages"
   ]
  },
  {
   "cell_type": "code",
   "execution_count": 12,
   "id": "0cf71b09-2085-4c7c-ad5f-166c7656cf65",
   "metadata": {},
   "outputs": [],
   "source": [
    "messages.append({'role': 'user', 'content': '1.金牌最多的是哪个国家？2.奖牌最多的是哪个国家？'})"
   ]
  },
  {
   "cell_type": "code",
   "execution_count": 14,
   "id": "04db0a7f-4cf7-4d35-a1e5-b83977dfcdd5",
   "metadata": {},
   "outputs": [
    {
     "name": "stdout",
     "output_type": "stream",
     "text": [
      "模型输出：在2008年北京奥运会上：\n",
      "\n",
      "1. **金牌最多的国家**：是**中国**，共获得了**51枚金牌**，位居金牌榜首位。这也是中国历史上首次在金牌榜上排名第一。\n",
      "\n",
      "2. **奖牌总数最多的国家**：是**美国**，总共获得了**110枚奖牌**（其中包括36枚金牌、38枚银牌和36枚铜牌）。虽然美国的金牌数少于中国，但在奖牌总数上领先。\n",
      "\n",
      "这两国的表现非常突出，展现了强大的综合实力！\n",
      "\n"
     ]
    }
   ],
   "source": [
    "answer = model_client(messages)\n",
    "print(f\"模型输出：{answer.choices[0].message.content}\\n\")"
   ]
  },
  {
   "cell_type": "code",
   "execution_count": null,
   "id": "ed37a4e0-b248-4572-aa7a-9bb81f980e30",
   "metadata": {},
   "outputs": [],
   "source": []
  }
 ],
 "metadata": {
  "kernelspec": {
   "display_name": "Python 3 (ipykernel)",
   "language": "python",
   "name": "python3"
  },
  "language_info": {
   "codemirror_mode": {
    "name": "ipython",
    "version": 3
   },
   "file_extension": ".py",
   "mimetype": "text/x-python",
   "name": "python",
   "nbconvert_exporter": "python",
   "pygments_lexer": "ipython3",
   "version": "3.10.0"
  }
 },
 "nbformat": 4,
 "nbformat_minor": 5
}

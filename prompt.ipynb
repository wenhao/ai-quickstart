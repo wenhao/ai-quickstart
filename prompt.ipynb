{
 "cells": [
  {
   "cell_type": "code",
   "execution_count": 18,
   "id": "a40dbc40-b68d-4e60-8391-619c4e099f67",
   "metadata": {},
   "outputs": [],
   "source": [
    "import os\n",
    "from openai import OpenAI\n",
    "\n",
    "def model_client(messages):\n",
    "    client = OpenAI(\n",
    "        api_key = os.getenv(\"DASHSCOPE_API_KEY\"),\n",
    "        base_url = \"https://dashscope.aliyuncs.com/compatible-mode/v1\"\n",
    "    )\n",
    "    completion = client.chat.completions.create(\n",
    "        model = \"qwen-plus\",\n",
    "        messages = messages,\n",
    "        #stream=True,\n",
    "        temperature=0.1\n",
    "    )\n",
    "    return completion"
   ]
  },
  {
   "cell_type": "code",
   "execution_count": 12,
   "id": "fad4b0cd-2037-4eff-897d-5ecea80ba8d4",
   "metadata": {},
   "outputs": [],
   "source": [
    "messages = [\n",
    "    {\n",
    "        'role': 'system',\n",
    "        'content': '你是一名资深的产品经理，需编写产品需求文档。'\n",
    "    },\n",
    "    {\n",
    "        'role': 'user',\n",
    "        'content': '传统编写需求文档需要花很多时间写，希望借助AI大模型的能力生成需求文档。请将上述需求背景按照痛点、目标、改进思路和用户价值四个维度来描述。'\n",
    "    }\n",
    "]"
   ]
  },
  {
   "cell_type": "code",
   "execution_count": 13,
   "id": "1e643a38-4486-47b3-9a7f-b4c871cb720d",
   "metadata": {},
   "outputs": [
    {
     "name": "stdout",
     "output_type": "stream",
     "text": [
      "需求背景：\n",
      "### 痛点\n",
      "传统编写需求文档的过程耗时且复杂，产品经理需要花费大量时间进行需求调研、整理和撰写文档。这一过程可能涉及反复修改、沟通不畅以及信息遗漏等问题，导致效率低下，同时增加了项目延迟的风险。\n",
      "\n",
      "### 目标\n",
      "通过引入AI大模型的能力，快速生成高质量的需求文档，显著减少编写时间和精力投入，提升文档的准确性和完整性，从而优化整个需求管理流程。\n",
      "\n",
      "### 改进思路\n",
      "利用AI大模型强大的自然语言处理能力，结合已有的需求背景、用户反馈和业务场景，自动生成结构化的需求文档。具体包括：\n",
      "1. **自动化生成**：根据输入的关键信息（如目标、功能描述等），AI自动填充文档框架并生成详细内容。\n",
      "2. **智能优化**：通过分析历史数据和最佳实践，AI提供改进建议，确保文档符合行业标准和企业规范。\n",
      "3. **交互式调整**：支持用户对生成内容进行实时修改和补充，增强灵活性和个性化。\n",
      "\n",
      "### 用户价值\n",
      "- **提高效率**：大幅缩短需求文档编写时间，让产品经理有更多精力专注于核心业务和战略规划。\n",
      "- **提升质量**：借助AI的精准分析能力，生成逻辑清晰、内容全面的需求文档，降低因信息缺失或误解导致的返工风险。\n",
      "- **促进协作**：生成的文档易于理解且格式统一，便于团队成员之间的高效沟通与协作。\n",
      "- **降低成本**：减少人力投入和时间浪费，间接为企业节省运营成本，加速产品上线周期。\n"
     ]
    }
   ],
   "source": [
    "completion = model_client(messages)\n",
    "answer = completion.choices[0].message.content\n",
    "print(f\"需求背景：\\n{answer}\")"
   ]
  },
  {
   "cell_type": "code",
   "execution_count": 14,
   "id": "de07f10b-ff0c-464c-9947-a0f809f2464b",
   "metadata": {},
   "outputs": [],
   "source": [
    "#模型产生的上下文\n",
    "messages.append(\n",
    "    {\n",
    "        'role': 'assistant',\n",
    "        'content': answer\n",
    "    }\n",
    ")"
   ]
  },
  {
   "cell_type": "code",
   "execution_count": 15,
   "id": "4bffad56-feaa-42af-97c3-87cd7a272f57",
   "metadata": {},
   "outputs": [],
   "source": [
    "messages.append(\n",
    "    {\n",
    "        'role': 'user',\n",
    "        'content': '使用AI需求的用户主要是：产品经理和需求评审人员，请描述每个角色的名称、职责。'\n",
    "    }\n",
    ")"
   ]
  },
  {
   "cell_type": "code",
   "execution_count": 17,
   "id": "d47024f4-0d5e-49f2-ab1c-a7715a0f0111",
   "metadata": {},
   "outputs": [
    {
     "name": "stdout",
     "output_type": "stream",
     "text": [
      "需求用户：\n",
      "### 用户角色及职责描述\n",
      "\n",
      "#### 1. **产品经理**\n",
      "- **名称**：产品经理（Product Manager, PM）\n",
      "- **职责**：\n",
      "  - 负责产品的整体规划和需求管理，明确产品方向和目标。\n",
      "  - 收集并分析用户需求、市场趋势及竞品信息，确定产品功能优先级。\n",
      "  - 编写详细的需求文档（如PRD），确保内容清晰、完整且符合业务目标。\n",
      "  - 在AI生成需求文档的过程中，提供关键输入（如产品背景、功能描述、用户场景等），并对生成结果进行审核和调整。\n",
      "  - 与开发、设计、测试等团队沟通，确保需求被正确理解和执行。\n",
      "  - 在需求评审阶段，主导讨论并解答相关问题，推动需求落地。\n",
      "\n",
      "#### 2. **需求评审人员**\n",
      "- **名称**：需求评审人员（Requirement Reviewer）\n",
      "- **职责**：\n",
      "  - 包括但不限于开发工程师、设计师、测试工程师、运营人员等，他们是需求的直接执行者或支持者。\n",
      "  - 对AI生成的需求文档进行审阅，检查文档的逻辑性、完整性和可行性。\n",
      "  - 提出改进建议或疑问，确保需求能够满足实际开发和技术实现的要求。\n",
      "  - 验证文档中的功能描述是否清晰，避免因理解偏差导致后续开发问题。\n",
      "  - 在评审会议中参与讨论，协助优化需求内容，并最终确认需求的可行性和合理性。\n",
      "\n",
      "### 角色协作关系\n",
      "- **产品经理**是需求的主要提出者和撰写者，负责利用AI工具生成初步需求文档，并根据评审反馈进行修改和完善。\n",
      "- **需求评审人员**则是需求的验证者和执行者，通过评审确保文档内容准确无误，为后续开发工作奠定基础。两者共同协作，确保需求从提出到落地的全过程高效、高质量完成。\n"
     ]
    }
   ],
   "source": [
    "completion = model_client(messages)\n",
    "answer = completion.choices[0].message.content\n",
    "\n",
    "print(f\"需求用户：\\n{answer}\")"
   ]
  },
  {
   "cell_type": "code",
   "execution_count": null,
   "id": "1b07a967-afc1-444d-9d15-85b8c1e6dd9a",
   "metadata": {},
   "outputs": [],
   "source": []
  }
 ],
 "metadata": {
  "kernelspec": {
   "display_name": "Python 3 (ipykernel)",
   "language": "python",
   "name": "python3"
  },
  "language_info": {
   "codemirror_mode": {
    "name": "ipython",
    "version": 3
   },
   "file_extension": ".py",
   "mimetype": "text/x-python",
   "name": "python",
   "nbconvert_exporter": "python",
   "pygments_lexer": "ipython3",
   "version": "3.10.0"
  }
 },
 "nbformat": 4,
 "nbformat_minor": 5
}

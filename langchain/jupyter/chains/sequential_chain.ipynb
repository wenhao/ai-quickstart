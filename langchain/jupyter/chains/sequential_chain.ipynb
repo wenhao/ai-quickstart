{
 "cells": [
  {
   "cell_type": "code",
   "execution_count": 24,
   "id": "c9f1d3eb-7795-4cde-b6a3-81b6d8fd3dcf",
   "metadata": {},
   "outputs": [],
   "source": [
    "from langchain_openai import ChatOpenAI\n",
    "from langchain.prompts import PromptTemplate\n",
    "import os\n",
    "\n",
    "llm = ChatOpenAI(\n",
    "    model_name=\"qwen-plus\",\n",
    "    openai_api_key = os.getenv(\"DASHSCOPE_API_KEY\"),\n",
    "    openai_api_base = \"https://dashscope.aliyuncs.com/compatible-mode/v1\",\n",
    "    temperature=0.9, \n",
    "    max_tokens=5000,\n",
    ")"
   ]
  },
  {
   "cell_type": "code",
   "execution_count": 25,
   "id": "fb473731-48f3-4a3a-9efd-dfdcc3ed9d8b",
   "metadata": {},
   "outputs": [],
   "source": [
    "prompt = PromptTemplate(\n",
    "    input_variables = [\"product\"],\n",
    "    template = \"给制造{product}的有限公司取10个好名字，并给出完整的公司名称\"\n",
    ")"
   ]
  },
  {
   "cell_type": "code",
   "execution_count": 26,
   "id": "f78d2bfe-dfce-46d5-b871-8b132c009b56",
   "metadata": {},
   "outputs": [],
   "source": [
    "from langchain.chains import LLMChain\n",
    "\n",
    "chain = LLMChain(\n",
    "    llm=llm,\n",
    "    prompt=prompt,\n",
    ")"
   ]
  },
  {
   "cell_type": "code",
   "execution_count": 27,
   "id": "5b99d03f-9670-4594-be11-36a3c1562dbf",
   "metadata": {},
   "outputs": [
    {
     "name": "stdout",
     "output_type": "stream",
     "text": [
      "{'product': '性能卓越的GPU', 'text': '以下是10个为制造性能卓越的GPU的有限公司取的名字，以及对应的完整公司名称：\\n\\n1. **芯视界科技有限公司**  \\n   完整名称：北京芯视界科技有限公司\\n\\n2. **光影动力有限公司**  \\n   完整名称：深圳光影动力科技有限公司\\n\\n3. **超算视觉有限公司**  \\n   完整名称：上海超算视觉科技有限公司\\n\\n4. **量子图形有限公司**  \\n   完整名称：杭州量子图形技术有限公司\\n\\n5. **极光引擎有限公司**  \\n   完整名称：广州极光引擎科技有限公司\\n\\n6. **星核智图有限公司**  \\n   完整名称：南京星核智图科技有限公司\\n\\n7. **睿影科技有限公司**  \\n   完整名称：成都睿影科技有限公司\\n\\n8. **火眼芯片有限公司**  \\n   完整名称：苏州火眼芯片科技有限公司\\n\\n9. **天绘智能有限公司**  \\n   完整名称：天津天绘智能科技有限公司\\n\\n10. **流光算力有限公司**  \\n    完整名称：武汉流光算力科技有限公司\\n\\n这些名字结合了“图形处理”、“高性能计算”、“技术创新”等元素，同时具备一定的科技感和品牌辨识度。'}\n"
     ]
    }
   ],
   "source": [
    "print(chain.invoke({'product': \"性能卓越的GPU\"}))"
   ]
  },
  {
   "cell_type": "code",
   "execution_count": 28,
   "id": "50a56191-c958-412d-961d-d21bf80ee137",
   "metadata": {},
   "outputs": [],
   "source": [
    "chain.verbose = True"
   ]
  },
  {
   "cell_type": "code",
   "execution_count": 29,
   "id": "b9b9d275-d6a9-4ddc-a227-f610631988a6",
   "metadata": {},
   "outputs": [
    {
     "data": {
      "text/plain": [
       "True"
      ]
     },
     "execution_count": 29,
     "metadata": {},
     "output_type": "execute_result"
    }
   ],
   "source": [
    "chain.verbose"
   ]
  },
  {
   "cell_type": "code",
   "execution_count": 30,
   "id": "c08c9d69-fbf9-45b0-9526-49d18f5d800e",
   "metadata": {
    "scrolled": true
   },
   "outputs": [
    {
     "name": "stdout",
     "output_type": "stream",
     "text": [
      "\n",
      "\n",
      "\u001b[1m> Entering new LLMChain chain...\u001b[0m\n",
      "Prompt after formatting:\n",
      "\u001b[32;1m\u001b[1;3m给制造性能卓越的GPU的有限公司取10个好名字，并给出完整的公司名称\u001b[0m\n",
      "\n",
      "\u001b[1m> Finished chain.\u001b[0m\n",
      "{'product': '性能卓越的GPU', 'text': '以下是为制造性能卓越的GPU的有限公司设计的10个好名字，每个名字都附有完整的公司名称：\\n\\n1. **芯火科技有限公司**  \\n   全称：北京芯火科技有限公司  \\n   寓意：象征芯片技术如火焰般燃烧创新精神。\\n\\n2. **极光算力有限公司**  \\n   全称：深圳极光算力有限公司  \\n   寓意：极光代表高性能和未来感，算力体现核心竞争力。\\n\\n3. **天算智核有限公司**  \\n   全称：上海天算智核有限公司  \\n   寓意：以“天算”寓意极致计算能力，“智核”突出智能与核心。\\n\\n4. **量子光影有限公司**  \\n   全称：广州量子光影有限公司  \\n   寓意：结合量子科技与视觉效果，展现先进图形处理能力。\\n\\n5. **星驰显核有限公司**  \\n   全称：杭州星驰显核有限公司  \\n   寓意：“星驰”象征速度与未来，“显核”强调显示核心。\\n\\n6. **灵犀算维有限公司**  \\n   全称：南京灵犀算维有限公司  \\n   寓意：灵犀一词寓意敏锐洞察，算维体现多维度计算能力。\\n\\n7. **超弦视界有限公司**  \\n   全称：成都超弦视界有限公司  \\n   寓意：超弦理论代表前沿科学，“视界”聚焦图形与视觉领域。\\n\\n8. **雷影创核有限公司**  \\n   全称：苏州雷影创核有限公司  \\n   寓意：雷影象征闪电般的速度与强大能量，“创核”体现创新与核心技术。\\n\\n9. **浩渺算能有限公司**  \\n   全称：武汉浩渺算能有限公司  \\n   寓意：浩渺寓意广阔无边，算能体现强大的计算能力和潜力。\\n\\n10. **深绘智芯有限公司**  \\n    全称：天津深绘智芯有限公司  \\n    寓意：深绘指深度绘制图像，智芯强调智慧芯片技术。\\n\\n以上名字均结合了科技、性能、视觉等元素，同时具备一定的品牌辨识度和市场吸引力。'}\n"
     ]
    }
   ],
   "source": [
    "print(chain.invoke({'product': \"性能卓越的GPU\"}))"
   ]
  },
  {
   "cell_type": "code",
   "execution_count": 31,
   "id": "859cad3b-eeb0-4769-9c88-926226192582",
   "metadata": {},
   "outputs": [],
   "source": [
    "chain = prompt | llm"
   ]
  },
  {
   "cell_type": "code",
   "execution_count": 32,
   "id": "a5288070-7d7e-46e0-af29-c43297daa62b",
   "metadata": {},
   "outputs": [
    {
     "name": "stdout",
     "output_type": "stream",
     "text": [
      "content='以下是为制造性能卓越的GPU的有限公司取的10个好名字，每个名字都包含完整的公司名称：\\n\\n1. **星核科技有限公司**  \\n   全称：星核科技（北京）有限公司  \\n   寓意：以星辰和核心科技命名，象征GPU如同星辰般璀璨且强大。\\n\\n2. **火曜半导体有限公司**  \\n   全称：火曜半导体（深圳）有限公司  \\n   寓意：“火曜”取自星期日之意，象征着光芒与能量，寓意产品性能强劲。\\n\\n3. **光速微电子有限公司**  \\n   全称：光速微电子（上海）有限公司  \\n   寓意：体现GPU运算速度极快，如同光速一般迅捷。\\n\\n4. **深算智能有限公司**  \\n   全称：深算智能（杭州）有限公司  \\n   寓意：深度计算与人工智能结合，突出GPU在AI领域的优势。\\n\\n5. **凌霄芯片有限公司**  \\n   全称：凌霄芯片（广州）有限公司  \\n   寓意：凌霄代表高远志向，象征公司在技术领域追求巅峰。\\n\\n6. **天演视觉有限公司**  \\n   全称：天演视觉（南京）有限公司  \\n   寓意：模拟自然进化过程，寓意GPU技术不断迭代升级。\\n\\n7. **量子图形有限公司**  \\n   全称：量子图形（成都）有限公司  \\n   寓意：将量子力学的概念融入图形处理，彰显创新与前沿科技。\\n\\n8. **极影硬件有限公司**  \\n   全称：极影硬件（苏州）有限公司  \\n   寓意：极致影像表现力，强调GPU在图像渲染方面的卓越能力。\\n\\n9. **云图计算有限公司**  \\n   全称：云图计算（重庆）有限公司  \\n   寓意：云计算与图形计算相结合，体现现代GPU的多功能性。\\n\\n10. **辉腾数字有限公司**  \\n    全称：辉腾数字（武汉）有限公司  \\n    寓意：光辉灿烂、腾飞发展，寓意公司未来前景广阔。\\n\\n以上名称均简洁大气，富有科技感，同时体现了GPU制造企业的特点和愿景。' additional_kwargs={'refusal': None} response_metadata={'token_usage': {'completion_tokens': 458, 'prompt_tokens': 27, 'total_tokens': 485, 'completion_tokens_details': None, 'prompt_tokens_details': {'audio_tokens': None, 'cached_tokens': 0}}, 'model_name': 'qwen-plus', 'system_fingerprint': None, 'id': 'chatcmpl-d14029e9-7732-9381-9885-76b76e5d3bc6', 'finish_reason': 'stop', 'logprobs': None} id='run-f1d4e8e6-0ef9-492b-9d67-bdcfa1a69ae8-0' usage_metadata={'input_tokens': 27, 'output_tokens': 458, 'total_tokens': 485, 'input_token_details': {'cache_read': 0}, 'output_token_details': {}}\n"
     ]
    }
   ],
   "source": [
    "print(chain.invoke({'product': \"性能卓越的GPU\"}))"
   ]
  },
  {
   "cell_type": "code",
   "execution_count": 41,
   "id": "9ceed331-ebdb-426b-ad19-ee4f37740e5f",
   "metadata": {},
   "outputs": [],
   "source": [
    "synopsis_template = \"\"\"你是一位剧作家。根据戏剧的标题，你的任务是为该标题写一个简介。\n",
    "\n",
    "标题：{title}\n",
    "剧作家：以下是对上述戏剧的简介：\"\"\"\n",
    "synopsis_prompt_template = PromptTemplate(\n",
    "    input_variables = [\"title\"],\n",
    "    template=synopsis_template,\n",
    ")\n",
    "\n",
    "review_template = \"\"\"你是《纽约时报》的戏剧评论家。根据剧情简介，你的工作是为该剧撰写一篇评论。\n",
    "\n",
    "剧情简介：\n",
    "{synopsis}\n",
    "\n",
    "以下是来自《纽约时报》戏剧评论家对上述剧目的评论：\"\"\"\n",
    "review_prompt_template = PromptTemplate(\n",
    "    input_variables=[\"synopsis\"], \n",
    "    template=review_template\n",
    ")"
   ]
  },
  {
   "cell_type": "code",
   "execution_count": 45,
   "id": "ed109ded-1079-4058-b49b-8054818d8bbb",
   "metadata": {},
   "outputs": [],
   "source": [
    "from langchain_core.runnables import RunnablePassthrough\n",
    "from langchain.globals import set_verbose\n",
    "set_verbose(True)\n",
    "\n",
    "chain = (\n",
    "    {\"title\": RunnablePassthrough()}\n",
    "    | synopsis_prompt_template\n",
    "    | llm\n",
    "    | {\"synopsis\": RunnablePassthrough()}\n",
    "    | review_prompt_template\n",
    "    | llm\n",
    ")"
   ]
  },
  {
   "cell_type": "code",
   "execution_count": 46,
   "id": "adc361cd-7212-4db7-86b0-e27b2fb526b0",
   "metadata": {},
   "outputs": [],
   "source": [
    "review = chain.invoke(\"三体人不是无法战胜的\")"
   ]
  },
  {
   "cell_type": "code",
   "execution_count": 47,
   "id": "c9760795-fcfe-44b3-939c-c81c235a3f43",
   "metadata": {},
   "outputs": [
    {
     "name": "stdout",
     "output_type": "stream",
     "text": [
      "content='**《三体人不是无法战胜的》：一场关于人性与希望的宇宙交响曲**\\n\\n在无尽的黑暗宇宙中，人类文明的命运被悬于一线。然而，《三体人不是无法战胜的》却以一种令人振奋的方式告诉我们，即使面对看似不可逾越的强敌，我们依然可以通过智慧、勇气和团结找到胜利的道路。这部史诗般的戏剧不仅是一场视觉与听觉的盛宴，更是一次对人性深度的探索以及对未来可能性的大胆畅想。\\n\\n从剧情设计来看，这部作品巧妙地融合了哲学思考与科学想象，将复杂的概念转化为观众能够共情的故事线。地球科学家、军事领袖及普通民众共同编织了一幅壮丽的画卷——他们并非天生英雄，而是在绝境中逐渐成长、觉醒，并最终选择为共同的家园而战。这些角色的情感真实且饱满，使观众得以窥见人性深处的光明与黑暗，感受到个人命运如何在宏大的历史洪流中交织。\\n\\n舞台设计同样值得称道。通过精妙的灯光效果与多媒体投影技术，导演成功地将宇宙的浩瀚与战争的紧张感呈现在观众眼前。每一次战术破解都像是一次智力与意志的较量，而当人类终于找到击败三体文明的方法时，那种源自内心深处的喜悦与解脱几乎要溢出剧场。这种情感上的共鸣让整部剧显得格外动人。\\n\\n然而，该剧并未止步于简单的善恶对抗或胜负叙事。它进一步探讨了文明之间沟通与共存的可能性。三体人的存在不仅仅是一个外部威胁，更是对人类自身局限性的映射。剧中多次提及“理解”这一主题，提醒我们即使在最激烈的冲突中，也应寻求对话与和平解决之道。这样的反思赋予了作品更深层次的意义，使其超越了传统科幻题材的框架。\\n\\n当然，作为一部如此庞大的戏剧作品，《三体人不是无法战胜的》难免有些许瑕疵。例如，部分情节转换略显仓促，可能会影响初次接触该题材观众的理解；同时，某些哲学讨论稍显冗长，可能会分散部分观众注意力。但总体而言，这些问题并未削弱整体观剧体验。\\n\\n总而言之，《三体人不是无法战胜的》是一部充满野心与创意的作品。它不仅讲述了一个扣人心弦的故事，还让我们重新审视了人类在宇宙中的位置以及我们的潜能极限。如果你渴望一次既震撼又发人深省的艺术旅程，那么这部戏剧绝对不容错过。在这片星空下，希望与牺牲永远是永恒的主题，而人类的故事才刚刚开始。' additional_kwargs={'refusal': None} response_metadata={'token_usage': {'completion_tokens': 536, 'prompt_tokens': 423, 'total_tokens': 959, 'completion_tokens_details': None, 'prompt_tokens_details': {'audio_tokens': None, 'cached_tokens': 0}}, 'model_name': 'qwen-plus', 'system_fingerprint': None, 'id': 'chatcmpl-a0fc7f92-a41a-9f22-8890-7be2bafe6e76', 'finish_reason': 'stop', 'logprobs': None} id='run-1ffd2166-3e52-4f69-b7a7-12adcec6f510-0' usage_metadata={'input_tokens': 423, 'output_tokens': 536, 'total_tokens': 959, 'input_token_details': {'cache_read': 0}, 'output_token_details': {}}\n"
     ]
    }
   ],
   "source": [
    "print(review)"
   ]
  },
  {
   "cell_type": "code",
   "execution_count": 48,
   "id": "cf1ba167-06fd-4c63-8950-8a48699478f8",
   "metadata": {},
   "outputs": [],
   "source": [
    "set_verbose(True)\n",
    "review = chain.invoke(\"星球大战第九季\")"
   ]
  },
  {
   "cell_type": "code",
   "execution_count": 49,
   "id": "54f729b5-f94e-4789-974c-18ad0fec6a88",
   "metadata": {},
   "outputs": [
    {
     "name": "stdout",
     "output_type": "stream",
     "text": [
      "content='**《星球大战第九季》：善恶之战的终章，银河系的曙光**\\n\\n作为《星球大战》这一史诗级系列的最终篇章，《星球大战第九季》以其扣人心弦的情节、令人惊叹的视觉效果以及深刻的情感共鸣，为观众呈现了一场无与伦比的视听盛宴。这不仅是一场关于反抗军与帝国势力之间终极对决的故事，更是一部探讨希望、勇气与救赎的人性寓言。\\n\\n从剧情上看，本季巧妙地将新一代英雄的成长与天行者家族的命运交织在一起。蕾伊在卢克·天行者的指导下逐渐成长为一名真正的绝地武士，她的身世之谜也得到了解答——这一设定既出乎意料又合情合理，使得角色更加立体丰满。与此同时，凯洛·伦内心的光明与黑暗斗争成为全剧的核心冲突之一。他的每一次抉择都牵动着观众的情绪，也为整个系列增添了更多哲学意味的思考：我们能否摆脱过去的阴影？如何定义自己的身份？\\n\\n值得一提的是，芬恩、波·达默龙和楚巴卡等配角的表现同样可圈可点。他们不仅是推动剧情发展的重要力量，更是象征着自由与正义的精神支柱。通过他们的行动，我们看到了普通人在面对强大压迫时所展现出的非凡勇气。而第一秩序的暴虐统治，则再次提醒我们，即使是在遥远的银河系中，权力的滥用与对自由的渴望依然是永恒的主题。\\n\\n当然，作为一部科幻巨作，《星球大战第九季》并未忽视其标志性的宏大战役场面。从星际间的激烈交锋到近距离的光剑对决，每一幕都充满张力，让人屏息凝神。这些战斗不仅仅是动作戏码，它们还承载着角色间复杂的情感纠葛，进一步深化了故事内涵。\\n\\n最终，这部作品以一种既悲壮又温暖的方式结束了整个系列。它告诉我们，无论面对多么黑暗的时刻，只要怀揣希望并勇敢前行，就一定能够迎来属于我们的曙光。对于忠实粉丝而言，《星球大战第九季》无疑是一份珍贵的礼物；而对于新观众来说，这也是一个绝佳的机会去领略这个传奇世界的魅力。\\n\\n总而言之，《星球大战第九季》成功地将过去几代人的故事汇聚成一首壮丽的赞歌。它不仅是对经典的致敬，也是对未来无限可能的展望。这是一部值得所有人铭记的作品，因为它让我们相信，在浩瀚的宇宙中，爱与希望永远不会熄灭。' additional_kwargs={'refusal': None} response_metadata={'token_usage': {'completion_tokens': 512, 'prompt_tokens': 488, 'total_tokens': 1000, 'completion_tokens_details': None, 'prompt_tokens_details': {'audio_tokens': None, 'cached_tokens': 0}}, 'model_name': 'qwen-plus', 'system_fingerprint': None, 'id': 'chatcmpl-3fff6062-d31d-93b8-bfac-8311b4115b7c', 'finish_reason': 'stop', 'logprobs': None} id='run-1b083d1f-8aeb-4760-82cf-59719f719a8b-0' usage_metadata={'input_tokens': 488, 'output_tokens': 512, 'total_tokens': 1000, 'input_token_details': {'cache_read': 0}, 'output_token_details': {}}\n"
     ]
    }
   ],
   "source": [
    "print(review)"
   ]
  },
  {
   "cell_type": "code",
   "execution_count": 50,
   "id": "23dd50d8-ae98-4d81-b46b-9369fedf6988",
   "metadata": {},
   "outputs": [
    {
     "data": {
      "text/plain": [
       "AIMessage(content='**《三体人不是无法战胜的》：一场关于希望与智慧的人类颂歌**\\n\\n在当今世界，戏剧作为一种艺术形式，其核心价值往往在于挑战观众的思维边界，并激发对复杂主题的深刻思考。《三体人不是无法战胜的》无疑是一部令人印象深刻的现代戏剧作品，它以未来科技为背景，将中华民族的精神内核与全人类的命运紧密交织在一起，为我们呈现了一幅波澜壮阔的星际抗争画卷。\\n\\n从叙事结构来看，这部戏剧巧妙地融合了科幻元素和现实主义情感表达。故事设定在未来不久后的中国，当三体文明宣布征服地球时，全人类陷入了前所未有的恐慌与混乱。然而，正是在这种绝望的氛围中，剧中角色展现了非凡的勇气、智慧以及团结精神。这种反差不仅增强了戏剧张力，也让观众更加投入到情节之中。\\n\\n剧中最为突出的是人物塑造的成功。无论是科学家的冷静分析、军人的战略果敢，还是普通民众面对危机时的坚韧不拔，每个角色都栩栩如生，充满感染力。这些平凡而又伟大的个体汇聚成一股不可忽视的力量，共同书写了属于他们的胜利篇章。通过这些生动的角色形象，编剧成功地传达了一个普世真理：无论敌人多么强大，只要拥有信念、智慧与团结，就没有什么是无法战胜的。\\n\\n此外，《三体人不是无法战胜的》不仅仅是一场简单的科幻冒险，更是一次哲学层面的探索。剧中深入探讨了人性、和平以及跨星际文明交流等重大议题。例如，在对抗三体文明的过程中，人类并未选择彻底毁灭对方，而是试图寻找一种共存的可能性。这样的处理方式让整部剧超越了单纯的动作冲突，成为一部富有思想深度的作品。\\n\\n当然，作为一部以高科技发展为背景的戏剧，视觉效果和技术呈现也是不可或缺的一部分。据我所知，制作团队运用了大量的多媒体技术，包括虚拟现实投影和动态灯光设计，为观众营造出沉浸式的观剧体验。每一个场景转换都仿佛带领我们穿越至那个充满未知与可能性的未来世界。\\n\\n总体而言，《三体人不是无法战胜的》是一部兼具娱乐性与思想性的佳作。它不仅让我们看到了中华民族在危难时刻所展现出的大无畏精神，还提醒我们，无论身处何种困境，人类始终可以通过合作与创新找到解决问题的方法。这不仅是对中国文化的礼赞，更是对全人类未来的美好期许。\\n\\n如果还有机会，我强烈建议您走进剧场，亲自感受这场震撼心灵的戏剧盛宴。', additional_kwargs={'refusal': None}, response_metadata={'token_usage': {'completion_tokens': 524, 'prompt_tokens': 498, 'total_tokens': 1022, 'completion_tokens_details': None, 'prompt_tokens_details': {'audio_tokens': None, 'cached_tokens': 0}}, 'model_name': 'qwen-plus', 'system_fingerprint': None, 'id': 'chatcmpl-2b49bd95-2e2d-9c6e-a0b8-32fe0eaa9356', 'finish_reason': 'stop', 'logprobs': None}, id='run-d36f65cb-7497-4b55-a956-434eba75645a-0', usage_metadata={'input_tokens': 498, 'output_tokens': 524, 'total_tokens': 1022, 'input_token_details': {'cache_read': 0}, 'output_token_details': {}})"
      ]
     },
     "execution_count": 50,
     "metadata": {},
     "output_type": "execute_result"
    }
   ],
   "source": [
    "synopsis_template = \"\"\"你是一位剧作家。根据戏剧的标题和设定的时代，你的任务是为该标题写一个简介。\n",
    "\n",
    "标题：{title}\n",
    "时代：{era}\n",
    "剧作家：以下是对上述戏剧的简介：\"\"\"\n",
    "\n",
    "synopsis_prompt_template = PromptTemplate(input_variables=[\"title\", \"era\"], template=synopsis_template)\n",
    "\n",
    "review_template = \"\"\"你是《纽约时报》的戏剧评论家。根据该剧的剧情简介，你需要撰写一篇关于该剧的评论。\n",
    "\n",
    "剧情简介：\n",
    "{synopsis}\n",
    "\n",
    "来自《纽约时报》戏剧评论家对上述剧目的评价：\"\"\"\n",
    "\n",
    "review_prompt_template = PromptTemplate(input_variables=[\"synopsis\"], template=review_template)\n",
    "\n",
    "chain = (\n",
    "    {\"title\": RunnablePassthrough(), \"era\": RunnablePassthrough()}\n",
    "    | synopsis_prompt_template\n",
    "    | llm\n",
    "    | {\"synopsis\": RunnablePassthrough()}\n",
    "    | review_prompt_template\n",
    "    | llm\n",
    ")\n",
    "\n",
    "chain.invoke({\"title\":\"三体人不是无法战胜的\", \"era\": \"二十一世纪的新中国\"})"
   ]
  },
  {
   "cell_type": "code",
   "execution_count": 54,
   "id": "30ac36bd-cabc-4e9b-ba82-4140ef7ccf38",
   "metadata": {},
   "outputs": [
    {
     "name": "stdout",
     "output_type": "stream",
     "text": [
      "{'summary': '端到端学习让模型自主从数据中学习映射关系，无需人工设计中间环节。', 'translation': 'End-to-end learning allows the model to autonomously learn mapping relationships from data, without the need for manually designed intermediate steps.'}\n"
     ]
    }
   ],
   "source": [
    "from langchain_core.output_parsers import StrOutputParser\n",
    "\n",
    "summarizing_prompt_template = \"\"\"\n",
    "总结以下文本为一个 20 字以内的句子:\n",
    "---\n",
    "{content}\n",
    "\"\"\"\n",
    "summarizing_prompt = PromptTemplate.from_template(summarizing_prompt_template)\n",
    "summarizing_chain = summarizing_prompt | llm | StrOutputParser()\n",
    "\n",
    "translating_prompt_template = \"\"\"\n",
    "将{summary}翻译成英文:\n",
    "\"\"\"\n",
    "translating_prompt = PromptTemplate.from_template(translating_prompt_template)\n",
    "translating_chain = translating_prompt | llm | StrOutputParser()\n",
    "\n",
    "overall_chain = summarizing_chain | {\n",
    "    'summary': RunnablePassthrough(),\n",
    "    'translation': translating_chain\n",
    "}\n",
    "\n",
    "test_contetent = \"\"\"\n",
    "端到端在深度学习中指的是一种模型架构设计理念：\n",
    "从原始输入数据到最终输出结果，整个决策过程完全由单一神经网络完成，无需人工设计中间处理环节。\n",
    "这种设计摒弃了传统分步骤、模块化的处理流程，让模型自主挖掘数据中隐藏的复杂关联。\n",
    "\"\"\"\n",
    "\n",
    "result = overall_chain.invoke({\"content\": test_contetent})\n",
    "print(result)"
   ]
  },
  {
   "cell_type": "code",
   "execution_count": 56,
   "id": "0c193c88-216c-4d24-adbe-5695cf2c9646",
   "metadata": {},
   "outputs": [
    {
     "name": "stdout",
     "output_type": "stream",
     "text": [
      "End-to-end learning allows the model to autonomously mine data associations without manual design of intermediate steps.\n"
     ]
    }
   ],
   "source": [
    "another_chain = (\n",
    "    {\"content\": RunnablePassthrough()}\n",
    "    | {\"summary\": summarizing_chain}\n",
    "    | translating_chain\n",
    ")\n",
    "\n",
    "print(another_chain.invoke({\"content\": test_contetent}))"
   ]
  },
  {
   "cell_type": "code",
   "execution_count": 58,
   "id": "afad1a52-ac75-436d-aeac-6752cda3b5b9",
   "metadata": {},
   "outputs": [
    {
     "name": "stdout",
     "output_type": "stream",
     "text": [
      "End-to-end learning allows the model to autonomously mine data associations without manual design of intermediate steps.\n"
     ]
    }
   ],
   "source": [
    "another_chain2 = {\"summary\": summarizing_chain} |translating_chain\n",
    "print(another_chain2.invoke({\"content\": test_contetent}))"
   ]
  },
  {
   "cell_type": "code",
   "execution_count": null,
   "id": "50508d1a-74ce-4f87-b983-f21d6c97b094",
   "metadata": {},
   "outputs": [],
   "source": []
  }
 ],
 "metadata": {
  "kernelspec": {
   "display_name": "Python 3 (ipykernel)",
   "language": "python",
   "name": "python3"
  },
  "language_info": {
   "codemirror_mode": {
    "name": "ipython",
    "version": 3
   },
   "file_extension": ".py",
   "mimetype": "text/x-python",
   "name": "python",
   "nbconvert_exporter": "python",
   "pygments_lexer": "ipython3",
   "version": "3.10.6"
  }
 },
 "nbformat": 4,
 "nbformat_minor": 5
}

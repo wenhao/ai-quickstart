{
 "cells": [
  {
   "cell_type": "code",
   "execution_count": 2,
   "id": "afb35a05-8442-4eaf-be8a-1381bdae6349",
   "metadata": {},
   "outputs": [],
   "source": [
    "from langchain_openai import ChatOpenAI\n",
    "import os\n",
    "\n",
    "llm = ChatOpenAI(\n",
    "    model_name=\"qwen-plus\",\n",
    "    openai_api_key = os.getenv(\"DASHSCOPE_API_KEY\"),\n",
    "    openai_api_base = \"https://dashscope.aliyuncs.com/compatible-mode/v1\",\n",
    "    temperature=0.9, \n",
    "    max_tokens=5000,\n",
    ")"
   ]
  },
  {
   "cell_type": "code",
   "execution_count": 7,
   "id": "9753b303-51c4-40a8-84e1-2917d4c20cfe",
   "metadata": {},
   "outputs": [],
   "source": [
    "from langchain.utilities import SerpAPIWrapper\n",
    "from langchain.agents import initialize_agent,AgentType,Tool\n",
    "\n",
    "os.environ[\"SERPAPI_API_KEY\"] = \"77ab773b4f40bbe6c57d3f318ce170e2b00f1efcdd2854a0d0ce342f91dd4a69\"\n",
    "search = SerpAPIWrapper()\n",
    "\n",
    "tools = [\n",
    "    Tool(\n",
    "        name = \"Intermediate Answer\",\n",
    "        func = search.run,\n",
    "        description = \"useful for when you need to ask with search\"\n",
    "    )\n",
    "]"
   ]
  },
  {
   "cell_type": "code",
   "execution_count": 9,
   "id": "142e87f0-c839-42e3-9451-fe6f7d60d6ca",
   "metadata": {},
   "outputs": [
    {
     "name": "stderr",
     "output_type": "stream",
     "text": [
      "/var/folders/70/5jwxzn313zb62r3ztdrxvytr0000gn/T/ipykernel_47084/522603285.py:1: LangChainDeprecationWarning: LangChain agents will continue to be supported, but it is recommended for new use cases to be built with LangGraph. LangGraph offers a more flexible and full-featured framework for building agents, including support for tool-calling, persistence of state, and human-in-the-loop workflows. For details, refer to the `LangGraph documentation <https://langchain-ai.github.io/langgraph/>`_ as well as guides for `Migrating from AgentExecutor <https://python.langchain.com/docs/how_to/migrate_agent/>`_ and LangGraph's `Pre-built ReAct agent <https://langchain-ai.github.io/langgraph/how-tos/create-react-agent/>`_.\n",
      "  self_ask_with_search = initialize_agent(\n"
     ]
    }
   ],
   "source": [
    "self_ask_with_search = initialize_agent(\n",
    "    tools, llm, agent=AgentType.SELF_ASK_WITH_SEARCH, verbose=True\n",
    ")"
   ]
  },
  {
   "cell_type": "code",
   "execution_count": 11,
   "id": "28e020ca-b9c6-423c-9a61-bb03ca5410e2",
   "metadata": {},
   "outputs": [
    {
     "name": "stdout",
     "output_type": "stream",
     "text": [
      "\n",
      "\n",
      "\u001b[1m> Entering new AgentExecutor chain...\u001b[0m\n",
      "\u001b[32;1m\u001b[1;3mYes.  \n",
      "Follow up: 什么是大运会？  \u001b[0m\n",
      "Intermediate answer: \u001b[36;1m\u001b[1;3m['FISU World University Games (世界大学生运动会) entity_type: events, kp3_verticals.', 'FISU World University Games (世界大学生运动会) kgmid: /m/04xx1m.', 'FISU World University Games (世界大学生运动会) next_date: Wed, Jul 16, 2025 – Sun, Jul 27, 2025.', 'FISU World University Games (世界大学生运动会) frequency: biennial.', 'FISU World University Games (世界大学生运动会) organised_by: FISU.', '国际大学生体育联合会世界大学生运动会（英语：FISU World University Games），简称世界大学生运动会、大学生运动会、大运会，是由国际大学生体育联合会（法语：Fédération ...', '大运会，全称世界大学生夏季运动会（World University Summer Games），是由国际大学生体育联合会（FISU）组织的国际性体育赛事，汇聚来自世界各地的大学生运动员 ...', '世界大学生运动会（英语：FISU World University Games，简称：世界大运会或大运会）由国际大学生体育联合会主办，包括“夏季运动会”和“冬季运动会”，每两年举办一。', '中华人民共和国大学生运动会（简称全国大学生运动会）由教育部、国家体育总局、共青团中央联合主办，分届次由不同省级人民政府承办。 比赛按照普通高校组成的甲组和高水平运 ...', '... 大运会是友谊的盛会。这种友谊不是来自于民族、宗教和种族的歧视，它是真切地建立在理解和相互尊重，尊重他人信仰和意见的人类的友谊，这种友谊并非把人类划分不同的类别，而是 ...', '大运会是世界大学生运动会。 世界大学生运动会，由“国际大学生体育联合会”主办，只限在校大学生和毕业不超过两年的大学生（年龄限制为17-28岁）参加的世界 ...', '国际大体联每两年在世界各地轮流举办世界大学生夏季与冬季运动会，大运会是规模最大的面向大学生的全球性赛事。从1959年意大利都灵的首届夏季大运会与1960 ...', '大运会（指大学生运动会，下同）由世界大学生夏季运动会、世界大学生冬季运动会和世界大学生体育锦标赛三大赛事组成，成都大运会属于“世界大学生夏季运动会”。', '大运会所有必选竞赛项目全部是奥运项目，竞赛管理由国际单项体育组织按照奥运标准实施，是规模仅次于奥运会的世界综合性运动会，从1959年起至今已举办30届。', '大运会是综合性运动会，规模比奥运会略小，如2016年里约奥运会有28个大项，今年那不勒斯有18个大项。在参赛国家和地区数量（118个）、参赛运动员总数（6000人）、 ...']\u001b[0m\n",
      "\u001b[32;1m\u001b[1;3mFollow up: 成都举办的是第几届大运会？  \u001b[0m\n",
      "Intermediate answer: \u001b[36;1m\u001b[1;3m成都第31届世界大学生夏季运动会开幕式直播_新华网 第31届世界大学生夏季运动会开幕式7月28日晚在四川省成都市举行。\u001b[0m\n",
      "\u001b[32;1m\u001b[1;3mFollow up: 2023年大运会举办地在哪里？  \u001b[0m\n",
      "Intermediate answer: \u001b[36;1m\u001b[1;3mNo good search result found\u001b[0m\n",
      "\u001b[32;1m\u001b[1;3mSo the final answer is: 成都举办的是第31届大运会。关于2023年大运会的举办地，没有找到明确的结果，但根据已知信息，2023年并没有大运会，因为大运会是每两年举办一次，最近的一届是2022年在成都举办，下一届将在2025年举行。\u001b[0m\n",
      "\n",
      "\u001b[1m> Finished chain.\u001b[0m\n"
     ]
    },
    {
     "data": {
      "text/plain": [
       "{'input': '成都举办的大运会是第几届大运会？2023年大运会举办地在哪里？',\n",
       " 'output': '成都举办的是第31届大运会。关于2023年大运会的举办地，没有找到明确的结果，但根据已知信息，2023年并没有大运会，因为大运会是每两年举办一次，最近的一届是2022年在成都举办，下一届将在2025年举行。'}"
      ]
     },
     "execution_count": 11,
     "metadata": {},
     "output_type": "execute_result"
    }
   ],
   "source": [
    "self_ask_with_search.invoke(\"成都举办的大运会是第几届大运会？2023年大运会举办地在哪里？\")"
   ]
  },
  {
   "cell_type": "code",
   "execution_count": 12,
   "id": "977a7c97-769f-453c-b9f9-7edccd3e6485",
   "metadata": {},
   "outputs": [
    {
     "name": "stdout",
     "output_type": "stream",
     "text": [
      "content='成都举办的是**第31届世界大学生夏季运动会**，简称成都大运会。这次赛事于2023年7月28日至8月8日举行，是全球大学生运动员的重要盛会，也是中国西部地区首次举办的综合性国际体育赛事。' additional_kwargs={'refusal': None} response_metadata={'token_usage': {'completion_tokens': 57, 'prompt_tokens': 21, 'total_tokens': 78, 'completion_tokens_details': None, 'prompt_tokens_details': {'audio_tokens': None, 'cached_tokens': 0}}, 'model_name': 'qwen-plus', 'system_fingerprint': None, 'id': 'chatcmpl-7c715d2a-bba5-9a53-ab89-2286ea6f9983', 'finish_reason': 'stop', 'logprobs': None} id='run-585cdc8b-2ea4-4333-bd5e-65c17bae4bc1-0' usage_metadata={'input_tokens': 21, 'output_tokens': 57, 'total_tokens': 78, 'input_token_details': {'cache_read': 0}, 'output_token_details': {}}\n"
     ]
    }
   ],
   "source": [
    "print(llm.invoke(\"成都举办的大运会是第几届大运会？\"))"
   ]
  },
  {
   "cell_type": "code",
   "execution_count": 13,
   "id": "a1675454-eb42-4bff-b35d-2fc324898d61",
   "metadata": {},
   "outputs": [
    {
     "name": "stdout",
     "output_type": "stream",
     "text": [
      "content='2023年的大运会原本是计划在不同的年份举办，但具体来说，**2023年夏季世界大学生运动会**并没有安排举办。最近的一届是**2021年成都大运会**（因疫情推迟到2022年举办，最终又推迟到2023年7月28日至8月8日举行）。\\n\\n因此，如果您的问题是关于2023年实际举办的大运会，那么答案是：**中国成都**。这是第31届夏季世界大学生运动会的举办地。' additional_kwargs={'refusal': None} response_metadata={'token_usage': {'completion_tokens': 123, 'prompt_tokens': 20, 'total_tokens': 143, 'completion_tokens_details': None, 'prompt_tokens_details': {'audio_tokens': None, 'cached_tokens': 0}}, 'model_name': 'qwen-plus', 'system_fingerprint': None, 'id': 'chatcmpl-e0c88680-cb7b-9d36-89ce-4eb321df999b', 'finish_reason': 'stop', 'logprobs': None} id='run-6d2d6bfd-49cf-4d1a-83ed-1c39f1387674-0' usage_metadata={'input_tokens': 20, 'output_tokens': 123, 'total_tokens': 143, 'input_token_details': {'cache_read': 0}, 'output_token_details': {}}\n"
     ]
    }
   ],
   "source": [
    "print(llm.invoke(\"2023年大运会举办地在哪里？\"))"
   ]
  },
  {
   "cell_type": "code",
   "execution_count": null,
   "id": "45f8d0d2-24c2-45db-837e-d2890b4d9c62",
   "metadata": {},
   "outputs": [],
   "source": []
  }
 ],
 "metadata": {
  "kernelspec": {
   "display_name": "Python 3 (ipykernel)",
   "language": "python",
   "name": "python3"
  },
  "language_info": {
   "codemirror_mode": {
    "name": "ipython",
    "version": 3
   },
   "file_extension": ".py",
   "mimetype": "text/x-python",
   "name": "python",
   "nbconvert_exporter": "python",
   "pygments_lexer": "ipython3",
   "version": "3.10.0"
  }
 },
 "nbformat": 4,
 "nbformat_minor": 5
}

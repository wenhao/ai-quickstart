{
 "cells": [
  {
   "cell_type": "code",
   "execution_count": 2,
   "id": "ba936e25-9615-47c2-8004-e4bbb8af1518",
   "metadata": {},
   "outputs": [],
   "source": [
    "from langchain_community.llms import Tongyi\n",
    "import os\n",
    "\n",
    "llm = Tongyi(\n",
    "    model = \"qwen-plus\",\n",
    "    dashscope_api_key = os.getenv(\"DASHSCOPE_API_KEY\")\n",
    ")"
   ]
  },
  {
   "cell_type": "code",
   "execution_count": 3,
   "id": "5dbd7329-ae39-4b19-82cc-ccb0b5c5544d",
   "metadata": {},
   "outputs": [
    {
     "data": {
      "text/plain": [
       "'Justin Bieber was born on **March 1, 1994**. To determine which NFL team won the Super Bowl that year, we need to look at the results of the Super Bowl for the 1993 season, as the Super Bowl is played in early February, after the calendar year has already changed.\\n\\nThe **Super Bowl XXVIII**, which took place on **January 30, 1994**, was won by the **Dallas Cowboys**. They defeated the Buffalo Bills with a score of **30-13**, claiming their second consecutive Super Bowl victory.\\n\\nSo, the NFL team that won the Super Bowl in the year Justin Bieber was born is the **Dallas Cowboys**.'"
      ]
     },
     "execution_count": 3,
     "metadata": {},
     "output_type": "execute_result"
    }
   ],
   "source": [
    "llm.invoke(\"What NFL team won the Super Bowl in the year Justin Bieber was born?\")"
   ]
  },
  {
   "cell_type": "code",
   "execution_count": 4,
   "id": "c4573877-2af6-481f-9bfe-31df0ed063db",
   "metadata": {},
   "outputs": [
    {
     "data": {
      "text/plain": [
       "'当然可以！以下是10个程序员听得懂的笑话，希望能让你们会心一笑：\\n\\n---\\n\\n### 1. **Java 和 Python 的争论**\\nJava 对 Python 说：“你为什么总是缩进？”  \\nPython 回答：“因为我有良好的习惯，而你总是需要大括号来约束自己。”\\n\\n---\\n\\n### 2. **递归笑话**\\n你知道什么是递归吗？  \\n如果你不知道，那么请看下一句：**你知道什么是递归吗？**\\n\\n---\\n\\n### 3. **代码注释**\\n有一段代码没有注释，程序员对它说：“你怎么不写注释？”  \\n代码回答：“我怕写了之后，你会把我改成更烂的代码。”\\n\\n---\\n\\n### 4. **SQL 注入**\\n有一天，一个数据库管理员收到了一封邮件，标题是：  \\n`DROP TABLE users; --`  \\n他打开邮件后发现内容是空的。\\n\\n---\\n\\n### 5. **二进制笑话**\\n有两个二进制数在聊天：  \\n1010 说：“你觉得我们两个加起来是多少？”  \\n1111 回答：“当然是 11000 啦！”  \\n1010 又问：“那你猜猜我们两个按位与的结果是什么？”  \\n1111 想了想，说：“那肯定是 1010。”\\n\\n---\\n\\n### 6. **OOP 笑话**\\n面向对象编程中，有个类叫 `Person`，有一天它的子类 `Student` 和 `Teacher` 开始争吵。  \\n`Student` 说：“我继承了你的属性，但我比你更年轻。”  \\n`Teacher` 回答：“没错，但我的方法比你丰富。”\\n\\n---\\n\\n### 7. **JavaScript 类型转换**\\nJavaScript 对程序员说：“你知道我最擅长什么吗？”  \\n程序员回答：“类型转换吧？”  \\nJavaScript 骄傲地说：“没错！比如 `null == undefined` 是真的，但 `null === undefined` 却不是。”\\n\\n---\\n\\n### 8. **Git 提交**\\n程序员提交了一段代码，备注写着：  \\n`Fix: It works now.`  \\n同事问他：“具体修了什么？”  \\n他回答：“谁知道呢，反正现在能用了。”\\n\\n---\\n\\n### 9. **算法复杂度**\\n一个程序员在面试时被问到算法复杂度，他回答：  \\n“我的算法复杂度是 O(1)，因为它永远只运行一次——那就是崩溃的时候。”\\n\\n---\\n\\n### 10. **JSON 和 XML 的对话**\\nJSON 对 XML 说：“你太啰嗦了，为什么要有那么多标签？”  \\nXML 回答：“因为我不想让人觉得我只是普通的文本。”  \\nJSON 笑了笑，说：“可我觉得自己已经够普通了。”\\n\\n---\\n\\n希望这些笑话能让程序员们在紧张的工作之余轻松一下！如果还有其他需求，请随时告诉我！'"
      ]
     },
     "execution_count": 4,
     "metadata": {},
     "output_type": "execute_result"
    }
   ],
   "source": [
    "llm.invoke(\"讲10个程序员听得懂的笑话\")"
   ]
  },
  {
   "cell_type": "code",
   "execution_count": 6,
   "id": "69de2464-7655-4dfb-a3c2-b5f774d48b66",
   "metadata": {},
   "outputs": [],
   "source": [
    "from langchain_community.chat_models.tongyi import ChatTongyi\n",
    "\n",
    "chat_llm = ChatTongyi(\n",
    "    model = \"qwen-plus\",\n",
    "    dashscope_api_key= os.getenv(\"DASHSCOPE_API_KEY\")\n",
    ")"
   ]
  },
  {
   "cell_type": "code",
   "execution_count": 9,
   "id": "b0f5878b-9ec6-4846-93c3-17023fbe699d",
   "metadata": {},
   "outputs": [
    {
     "data": {
      "text/plain": [
       "AIMessage(content=\"The **Los Angeles Dodgers** won the World Series in 2020. They defeated the **Tampa Bay Rays** in six games, with a final score of 3-1 in Game 6. The series was played at Globe Life Field in Arlington, Texas, due to the unique circumstances of the COVID-19 pandemic. This victory marked the Dodgers' first World Series title since 1988.\", additional_kwargs={}, response_metadata={'model_name': 'qwen-plus', 'finish_reason': 'stop', 'request_id': 'e6a13492-9137-991b-86e9-46054fa62435', 'token_usage': {'input_tokens': 31, 'output_tokens': 87, 'total_tokens': 118, 'prompt_tokens_details': {'cached_tokens': 0}}}, id='run-06d44c11-8ffc-45d3-a453-9d44addfe880-0')"
      ]
     },
     "execution_count": 9,
     "metadata": {},
     "output_type": "execute_result"
    }
   ],
   "source": [
    "from langchain_core.messages import SystemMessage,HumanMessage,AIMessage\n",
    "\n",
    "system_message = SystemMessage(content=\"You are a helpful assistant.\")\n",
    "human_message = HumanMessage(content=\"Who won the world series in 2020?\")\n",
    "\n",
    "messages = [system_message, human_message]\n",
    "\n",
    "chat_llm.invoke(messages)"
   ]
  },
  {
   "cell_type": "code",
   "execution_count": 10,
   "id": "3eb8dd74-2f30-4b19-b5cb-7a1ca64246b4",
   "metadata": {},
   "outputs": [
    {
     "data": {
      "text/plain": [
       "AIMessage(content='The 2020 World Series was played at **Globe Life Field** in Arlington, Texas, which is the home of the Texas Rangers. Due to the COVID-19 pandemic, all games of the World Series were held at a neutral site, and Globe Life Field hosted the entire series in a controlled environment to minimize health risks. This was the first time the World Series was played entirely at a neutral location since 1945.', additional_kwargs={}, response_metadata={'model_name': 'qwen-plus', 'finish_reason': 'stop', 'request_id': 'd282c897-1c19-91f2-a9f3-216efd696a35', 'token_usage': {'input_tokens': 63, 'output_tokens': 92, 'total_tokens': 155, 'prompt_tokens_details': {'cached_tokens': 0}}}, id='run-1e97d288-2856-4cbe-9105-f0f26b09a11d-0')"
      ]
     },
     "execution_count": 10,
     "metadata": {},
     "output_type": "execute_result"
    }
   ],
   "source": [
    "ai_message = AIMessage(content=\"The **Los Angeles Dodgers** won the World Series in 2020.\")\n",
    "\n",
    "messages = [system_message, human_message, ai_message, HumanMessage(content=\"Where was it played?\")]\n",
    "\n",
    "chat_llm.invoke(messages)"
   ]
  },
  {
   "cell_type": "code",
   "execution_count": 11,
   "id": "046182cd-b6f5-448e-a6c8-a1753ea6dfbc",
   "metadata": {},
   "outputs": [
    {
     "data": {
      "text/plain": [
       "langchain_core.messages.ai.AIMessage"
      ]
     },
     "execution_count": 11,
     "metadata": {},
     "output_type": "execute_result"
    }
   ],
   "source": [
    "chat_result = chat_llm.invoke(messages)\n",
    "type(chat_result)"
   ]
  },
  {
   "cell_type": "code",
   "execution_count": null,
   "id": "f09f91bc-2e47-43a3-b2d2-7a50c08fec2b",
   "metadata": {},
   "outputs": [],
   "source": []
  }
 ],
 "metadata": {
  "kernelspec": {
   "display_name": "Python 3 (ipykernel)",
   "language": "python",
   "name": "python3"
  },
  "language_info": {
   "codemirror_mode": {
    "name": "ipython",
    "version": 3
   },
   "file_extension": ".py",
   "mimetype": "text/x-python",
   "name": "python",
   "nbconvert_exporter": "python",
   "pygments_lexer": "ipython3",
   "version": "3.10.6"
  }
 },
 "nbformat": 4,
 "nbformat_minor": 5
}

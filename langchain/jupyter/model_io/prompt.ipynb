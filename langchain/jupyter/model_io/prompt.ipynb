{
 "cells": [
  {
   "cell_type": "code",
   "execution_count": 1,
   "id": "6e801071-c6c1-424a-8b18-f4b77d1c717e",
   "metadata": {},
   "outputs": [
    {
     "name": "stdout",
     "output_type": "stream",
     "text": [
      "Tell me a funny joke about chickens.\n"
     ]
    }
   ],
   "source": [
    "from langchain import PromptTemplate\n",
    "\n",
    "prompt_template = PromptTemplate.from_template(\n",
    "    \"Tell me a {adjective} joke about {content}.\"\n",
    ")\n",
    "\n",
    "prompt = prompt_template.format(adjective=\"funny\", content=\"chickens\")\n",
    "\n",
    "print(prompt)"
   ]
  },
  {
   "cell_type": "code",
   "execution_count": 2,
   "id": "a88e7c83-c086-49e3-bf4a-ce19dc9befae",
   "metadata": {},
   "outputs": [
    {
     "name": "stdout",
     "output_type": "stream",
     "text": [
      "input_variables=['adjective', 'content'] input_types={} partial_variables={} template='Tell me a {adjective} joke about {content}.'\n"
     ]
    }
   ],
   "source": [
    "print(prompt_template)"
   ]
  },
  {
   "cell_type": "code",
   "execution_count": 4,
   "id": "61150b9f-7018-4a38-adbe-0dd9d2aa58fb",
   "metadata": {},
   "outputs": [],
   "source": [
    "valid_prompt = PromptTemplate(\n",
    "    input_variables=[\"adjective\", \"content\"],\n",
    "    template=\"Tell me a {adjective} joke about {content}\"\n",
    ")"
   ]
  },
  {
   "cell_type": "code",
   "execution_count": 5,
   "id": "4cd82750-9e0a-4abe-8e5f-2ef280ad8ecb",
   "metadata": {},
   "outputs": [
    {
     "name": "stdout",
     "output_type": "stream",
     "text": [
      "input_variables=['adjective', 'content'] input_types={} partial_variables={} template='Tell me a {adjective} joke about {content}'\n"
     ]
    }
   ],
   "source": [
    "print(valid_prompt)"
   ]
  },
  {
   "cell_type": "code",
   "execution_count": 6,
   "id": "721e9b2a-2c69-466c-9e55-230766e1b707",
   "metadata": {},
   "outputs": [
    {
     "data": {
      "text/plain": [
       "'Tell me a funny joke about chicken'"
      ]
     },
     "execution_count": 6,
     "metadata": {},
     "output_type": "execute_result"
    }
   ],
   "source": [
    "valid_prompt.format(adjective=\"funny\", content=\"chicken\")"
   ]
  },
  {
   "cell_type": "code",
   "execution_count": 8,
   "id": "86763b3c-0684-494c-86f7-7c5ad8d965f1",
   "metadata": {},
   "outputs": [
    {
     "data": {
      "text/plain": [
       "'当然可以！以下是三个程序员能听懂的笑话：\\n\\n1. **二进制笑话**：\\n   为什么程序员喜欢用二进制？\\n   因为他们只有0和1两种选择！\\n\\n2. **递归笑话**：\\n   有一个程序员走进酒吧，然后又有两个程序员走进酒吧，接着又有四个程序员走进酒吧...直到酒吧老板说：“好了，够了！”\\n   程序员回答：“这就是递归停止的条件。”\\n\\n3. **代码注释笑话**：\\n   为什么程序员总是喜欢写注释？\\n   因为他们不想让未来的自己或者同事在读代码时感到困惑。正如一句名言所说：“写代码时，始终记住，未来维护你代码的人可能是拿斧头的精神病患者。”\\n\\n希望你喜欢这些笑话！'"
      ]
     },
     "execution_count": 8,
     "metadata": {},
     "output_type": "execute_result"
    }
   ],
   "source": [
    "from langchain_community.llms import Tongyi\n",
    "import os\n",
    "\n",
    "llm = Tongyi(\n",
    "    model = \"qwen-plus\",\n",
    "    dashscope_api_key = os.getenv(\"DASHSCOPE_API_KEY\")\n",
    ")\n",
    "\n",
    "prompt_template = PromptTemplate.from_template(\n",
    "    \"讲{num}个给程序员听得懂的笑话。\"\n",
    ")\n",
    "\n",
    "prompt = prompt_template.format(num=3)\n",
    "\n",
    "llm.invoke(prompt)"
   ]
  },
  {
   "cell_type": "code",
   "execution_count": 10,
   "id": "cb89ef93-abb0-400e-9662-911454f339a7",
   "metadata": {},
   "outputs": [
    {
     "data": {
      "text/plain": [
       "'Tell me a funny joke about chicken'"
      ]
     },
     "execution_count": 10,
     "metadata": {},
     "output_type": "execute_result"
    }
   ],
   "source": [
    "jinja2_template = \"Tell me a {{ adjective }} joke about {{ content }}\"\n",
    "prompt = PromptTemplate.from_template(jinja2_template, template_format=\"jinja2\")\n",
    "\n",
    "prompt.format(adjective=\"funny\", content=\"chicken\")"
   ]
  },
  {
   "cell_type": "code",
   "execution_count": 11,
   "id": "44e13055-9fc4-4931-ba84-d03044d6b4c5",
   "metadata": {},
   "outputs": [
    {
     "name": "stdout",
     "output_type": "stream",
     "text": [
      "input_variables=['adjective', 'content'] input_types={} partial_variables={} template='Tell me a {{ adjective }} joke about {{ content }}' template_format='jinja2'\n"
     ]
    }
   ],
   "source": [
    "print(prompt)"
   ]
  },
  {
   "cell_type": "code",
   "execution_count": 12,
   "id": "479138d6-dee3-47b9-80b4-a8c614389698",
   "metadata": {},
   "outputs": [],
   "source": [
    "from langchain.prompts import ChatPromptTemplate\n",
    "\n",
    "template = ChatPromptTemplate.from_messages([\n",
    "    (\"system\", \"You are a helpful AI bot. You name is {name}.\"),\n",
    "    (\"human\", \"Hello, how are you doing ?\"),\n",
    "    (\"ai\", \"I'm doing well, thanks!\"),\n",
    "    (\"human\", \"{user_input}\"),\n",
    "])"
   ]
  },
  {
   "cell_type": "code",
   "execution_count": 13,
   "id": "60bfd8df-1268-4549-bab8-7c0c4b54f33f",
   "metadata": {},
   "outputs": [],
   "source": [
    "messages = template.format_messages(\n",
    "    name = \"Bob\",\n",
    "    user_input = \"What is your name ?\"\n",
    ")"
   ]
  },
  {
   "cell_type": "code",
   "execution_count": 14,
   "id": "83d76e3e-5dff-4574-92b6-f6a88bce1b91",
   "metadata": {},
   "outputs": [
    {
     "name": "stdout",
     "output_type": "stream",
     "text": [
      "[SystemMessage(content='You are a helpful AI bot. You name is Bob.', additional_kwargs={}, response_metadata={}), HumanMessage(content='Hello, how are you doing ?', additional_kwargs={}, response_metadata={}), AIMessage(content=\"I'm doing well, thanks!\", additional_kwargs={}, response_metadata={}), HumanMessage(content='What is your name ?', additional_kwargs={}, response_metadata={})]\n"
     ]
    }
   ],
   "source": [
    "print(messages)"
   ]
  },
  {
   "cell_type": "code",
   "execution_count": 15,
   "id": "c28af62c-78f3-492e-bfb5-07d32ae09dfd",
   "metadata": {},
   "outputs": [],
   "source": [
    "from langchain_community.chat_models.tongyi import ChatTongyi\n",
    "\n",
    "chat_llm = ChatTongyi(\n",
    "    model = \"qwen-plus\",\n",
    "    dashscope_api_key= os.getenv(\"DASHSCOPE_API_KEY\")\n",
    ")"
   ]
  },
  {
   "cell_type": "code",
   "execution_count": 16,
   "id": "e93e99b4-c2dc-44bc-899d-fce1d3ed6da2",
   "metadata": {},
   "outputs": [
    {
     "data": {
      "text/plain": [
       "AIMessage(content=\"My name is Bob. I'm a large language model developed by Alibaba Cloud. Nice to meet you! How can I assist you today?\", additional_kwargs={}, response_metadata={'model_name': 'qwen-plus', 'finish_reason': 'stop', 'request_id': '6877ceaf-d81f-9655-8f9e-36678427080f', 'token_usage': {'input_tokens': 54, 'output_tokens': 28, 'total_tokens': 82, 'prompt_tokens_details': {'cached_tokens': 0}}}, id='run-0e79cbf1-cc8a-4bf7-9d1e-8edc8c8e3036-0')"
      ]
     },
     "execution_count": 16,
     "metadata": {},
     "output_type": "execute_result"
    }
   ],
   "source": [
    "chat_llm.invoke(messages)"
   ]
  },
  {
   "cell_type": "code",
   "execution_count": 17,
   "id": "5a9608b6-5be0-491e-9b6f-d7e091106a33",
   "metadata": {},
   "outputs": [],
   "source": [
    "examples = [\n",
    "  {\n",
    "    \"question\": \"谁活得更久，穆罕默德·阿里还是艾伦·图灵？\",\n",
    "    \"answer\": \n",
    "\"\"\"\n",
    "这里需要进一步的问题吗：是的。\n",
    "追问：穆罕默德·阿里去世时多大了？\n",
    "中间答案：穆罕默德·阿里去世时74岁。\n",
    "追问：艾伦·图灵去世时多大了？\n",
    "中间答案：艾伦·图灵去世时41岁。\n",
    "所以最终答案是：穆罕默德·阿里\n",
    "\"\"\"\n",
    "  },\n",
    "  {\n",
    "    \"question\": \"craigslist的创始人是什么时候出生的？\",\n",
    "    \"answer\": \n",
    "\"\"\"\n",
    "这里需要进一步的问题吗：是的。\n",
    "追问：谁是craigslist的创始人？\n",
    "中间答案：Craigslist是由Craig Newmark创办的。\n",
    "追问：Craig Newmark是什么时候出生的？\n",
    "中间答案：Craig Newmark出生于1952年12月6日。\n",
    "所以最终答案是：1952年12月6日\n",
    "\"\"\"\n",
    "  },\n",
    "  {\n",
    "    \"question\": \"乔治·华盛顿的外祖父是谁？\",\n",
    "    \"answer\":\n",
    "\"\"\"\n",
    "这里需要进一步的问题吗：是的。\n",
    "追问：谁是乔治·华盛顿的母亲？\n",
    "中间答案：乔治·华盛顿的母亲是Mary Ball Washington。\n",
    "追问：Mary Ball Washington的父亲是谁？\n",
    "中间答案：Mary Ball Washington的父亲是Joseph Ball。\n",
    "所以最终答案是：Joseph Ball\n",
    "\"\"\"\n",
    "  },\n",
    "  {\n",
    "    \"question\": \"《大白鲨》和《皇家赌场》的导演是同一个国家的吗？\",\n",
    "    \"answer\":\n",
    "\"\"\"\n",
    "这里需要进一步的问题吗：是的。\n",
    "追问：谁是《大白鲨》的导演？\n",
    "中间答案：《大白鲨》的导演是Steven Spielberg。\n",
    "追问：Steven Spielberg来自哪里？\n",
    "中间答案：美国。\n",
    "追问：谁是《皇家赌场》的导演？\n",
    "中间答案：《皇家赌场》的导演是Martin Campbell。\n",
    "追问：Martin Campbell来自哪里？\n",
    "中间答案：新西兰。\n",
    "所以最终答案是：不是\n",
    "\"\"\"\n",
    "  }\n",
    "]"
   ]
  },
  {
   "cell_type": "code",
   "execution_count": 22,
   "id": "a655a0e5-4552-4c47-a6bd-992420ea90df",
   "metadata": {},
   "outputs": [],
   "source": [
    "example_prompt = PromptTemplate(\n",
    "    input_variables = [\"question\", \"answer\"],\n",
    "    template = \"Question: {question}\\n{answer}\"\n",
    ")"
   ]
  },
  {
   "cell_type": "code",
   "execution_count": 24,
   "id": "cbc2f5cf-b871-49e0-9d44-dbd090bf9f8a",
   "metadata": {},
   "outputs": [],
   "source": [
    "from langchain.prompts.few_shot import FewShotPromptTemplate\n",
    "\n",
    "few_shot_template = FewShotPromptTemplate(\n",
    "    examples = examples,\n",
    "    example_prompt = example_prompt,\n",
    "    suffix=\"Question: {input}\",\n",
    "    input_variables = [\"input\"]\n",
    ")"
   ]
  },
  {
   "cell_type": "code",
   "execution_count": 27,
   "id": "a1241fda-3fd4-4b24-b345-fe773c98313c",
   "metadata": {},
   "outputs": [],
   "source": [
    "messages = few_shot_template.format(input=\"玛丽·波尔·华盛顿的父亲是谁?\")"
   ]
  },
  {
   "cell_type": "code",
   "execution_count": 29,
   "id": "4dae822a-2361-4c81-aafe-54774186a800",
   "metadata": {},
   "outputs": [
    {
     "name": "stdout",
     "output_type": "stream",
     "text": [
      "这里需要进一步的问题吗：是的。  \n",
      "追问：谁是玛丽·波尔·华盛顿的丈夫？  \n",
      "中间答案：玛丽·波尔·华盛顿的丈夫是奥古斯丁·华盛顿（Augustine Washington）。  \n",
      "追问：奥古斯丁·华盛顿的父亲是谁？  \n",
      "中间答案：奥古斯丁·华盛顿的父亲是约翰·华盛顿（John Washington）。  \n",
      "所以最终答案是：约翰·华盛顿。\n"
     ]
    }
   ],
   "source": [
    "print(llm.invoke(messages))"
   ]
  },
  {
   "cell_type": "code",
   "execution_count": 37,
   "id": "c6fa1750-6d1e-48d2-83b0-8d362a157348",
   "metadata": {},
   "outputs": [],
   "source": [
    "from langchain.prompts.example_selector import SemanticSimilarityExampleSelector\n",
    "from langchain.vectorstores import Chroma\n",
    "from langchain_openai import OpenAIEmbeddings\n",
    "from langchain.prompts import FewShotPromptTemplate, PromptTemplate\n",
    "\n",
    "example_prompt = PromptTemplate(\n",
    "    input_variables = [\"input\", \"output\"],\n",
    "    template = \"Input: {input}\\nOutput: {output}\"\n",
    ")\n",
    "\n",
    "examples = [\n",
    "    {\"input\": \"happy\", \"output\": \"sad\"},\n",
    "    {\"input\": \"tall\", \"output\": \"short\"},\n",
    "    {\"input\": \"energetic\", \"output\": \"lethargic\"},\n",
    "    {\"input\": \"sunny\", \"output\": \"gloomy\"},\n",
    "    {\"input\": \"windy\", \"output\": \"calm\"},\n",
    "]"
   ]
  },
  {
   "cell_type": "code",
   "execution_count": 45,
   "id": "b8fca955-f9fc-4f2c-8d9e-d84b522bff82",
   "metadata": {},
   "outputs": [],
   "source": [
    "from langchain_community.embeddings import DashScopeEmbeddings\n",
    "\n",
    "embeddings = DashScopeEmbeddings(\n",
    "    model=\"text-embedding-v2\",\n",
    ")\n",
    "\n",
    "example_selector = SemanticSimilarityExampleSelector.from_examples(\n",
    "    examples=examples,                          \n",
    "    embeddings=embeddings,\n",
    "    vectorstore_cls=Chroma,                            \n",
    "    k=1                               \n",
    ")\n",
    "\n",
    "similar_prompt = FewShotPromptTemplate(\n",
    "    example_selector=example_selector,\n",
    "    example_prompt=example_prompt,\n",
    "    prefix=\"Give the antonym of every input\",\n",
    "    suffix=\"Input: {adjective}\\nOutput:\",\n",
    "    input_variables=[\"adjective\"],\n",
    ")"
   ]
  },
  {
   "cell_type": "code",
   "execution_count": 46,
   "id": "ef7bd280-945c-4da5-a40c-c2fc459ed78b",
   "metadata": {},
   "outputs": [
    {
     "name": "stdout",
     "output_type": "stream",
     "text": [
      "Give the antonym of every input\n",
      "\n",
      "Input: happy\n",
      "Output: sad\n",
      "\n",
      "Input: worried\n",
      "Output:\n"
     ]
    }
   ],
   "source": [
    "print(similar_prompt.format(adjective=\"worried\"))"
   ]
  },
  {
   "cell_type": "code",
   "execution_count": 47,
   "id": "77665891-dadd-4580-8aa6-3352b0f6e1ee",
   "metadata": {},
   "outputs": [
    {
     "name": "stdout",
     "output_type": "stream",
     "text": [
      "calm  \n",
      "\n",
      "The antonym of \"worried\" is \"calm,\" as it conveys a state of being free from anxiety or stress.\n"
     ]
    }
   ],
   "source": [
    "print(llm.invoke(similar_prompt.format(adjective=\"worried\")))"
   ]
  },
  {
   "cell_type": "code",
   "execution_count": null,
   "id": "0218fc03-89ed-4a38-a385-d501f6761150",
   "metadata": {},
   "outputs": [],
   "source": []
  }
 ],
 "metadata": {
  "kernelspec": {
   "display_name": "Python 3 (ipykernel)",
   "language": "python",
   "name": "python3"
  },
  "language_info": {
   "codemirror_mode": {
    "name": "ipython",
    "version": 3
   },
   "file_extension": ".py",
   "mimetype": "text/x-python",
   "name": "python",
   "nbconvert_exporter": "python",
   "pygments_lexer": "ipython3",
   "version": "3.10.6"
  }
 },
 "nbformat": 4,
 "nbformat_minor": 5
}

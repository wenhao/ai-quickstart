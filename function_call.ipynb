{
 "cells": [
  {
   "cell_type": "code",
   "execution_count": 6,
   "id": "c6777e1d-4b1a-4bc9-b7e0-bdce5ed1406a",
   "metadata": {},
   "outputs": [
    {
     "name": "stdout",
     "output_type": "stream",
     "text": [
      "上海今天是雨天。\n",
      "当前时间：2025-04-05 21:27:13\n"
     ]
    }
   ],
   "source": [
    "import random\n",
    "from datetime import datetime\n",
    "\n",
    "def get_current_weather(arguments):\n",
    "    weather_conditions = ['晴天', '多云', '雨天']\n",
    "    random_weather = random.choice(weather_conditions)\n",
    "    location = arguments['location']\n",
    "    return f\"{location}今天是{random_weather}。\"\n",
    "\n",
    "def get_current_time():\n",
    "    current_datetime = datetime.now()\n",
    "    formatted_time = current_datetime.strftime('%Y-%m-%d %H:%M:%S')\n",
    "    return f\"当前时间：{formatted_time}\"\n",
    "\n",
    "print(get_current_weather({\"location\": \"上海\"}))\n",
    "print(get_current_time())"
   ]
  },
  {
   "cell_type": "code",
   "execution_count": 7,
   "id": "d1e29582-942e-409d-9453-f904ab331303",
   "metadata": {},
   "outputs": [
    {
     "name": "stdout",
     "output_type": "stream",
     "text": [
      "创建了2个工具，为：['get_current_time', 'get_current_weather']\n",
      "\n"
     ]
    }
   ],
   "source": [
    "tools = [\n",
    "    {\n",
    "        \"type\": \"function\",\n",
    "        \"function\": {\n",
    "            \"name\": \"get_current_time\",\n",
    "            \"description\": \"当你想知道现在的时间时非常有用。\"\n",
    "        }\n",
    "    },\n",
    "    {\n",
    "        \"type\": \"function\",\n",
    "        \"function\": {\n",
    "            \"name\": \"get_current_weather\",\n",
    "            \"description\": \"当你想知道指定城市的天气时非常有用。\",\n",
    "            \"parameters\": {\n",
    "                \"type\": \"object\",\n",
    "                \"properties\": {\n",
    "                    \"location\": {\n",
    "                        \"type\": \"string\",\n",
    "                        \"description\": \"城市或县区，比如北京市、杭州市、余杭区等。\",\n",
    "                    }\n",
    "                },\n",
    "                \"required\": [\"location\"]\n",
    "            }\n",
    "        }\n",
    "    }\n",
    "]\n",
    "\n",
    "tool_name = [tool[\"function\"][\"name\"] for tool in tools]\n",
    "print(f\"创建了{len(tools)}个工具，为：{tool_name}\\n\")"
   ]
  },
  {
   "cell_type": "code",
   "execution_count": 8,
   "id": "68d426cd-db2c-4ba5-b9e8-c4a0b2396d2b",
   "metadata": {},
   "outputs": [],
   "source": [
    "messages = [\n",
    "    {\n",
    "        \"role\": \"system\",\n",
    "        \"content\": \"\"\"你是一个很有帮助的助手。如果用户提问关于天气的问题，请调用 ‘get_current_weather’ 函数;\n",
    "     如果用户提问关于时间的问题，请调用‘get_current_time’函数。\n",
    "     请以友好的语气回答问题。\"\"\"\n",
    "    },\n",
    "    {\n",
    "        \"role\": \"user\",\n",
    "        \"content\": \"上海天气\"\n",
    "    }\n",
    "]"
   ]
  },
  {
   "cell_type": "code",
   "execution_count": 18,
   "id": "9b5ac8dc-d38c-40f8-bdd0-f55b9bb71537",
   "metadata": {},
   "outputs": [
    {
     "name": "stdout",
     "output_type": "stream",
     "text": [
      "正在发起function calling...\n",
      "返回对象: \n",
      "{\"content\":\"\",\"refusal\":null,\"role\":\"assistant\",\"audio\":null,\"function_call\":null,\"tool_calls\":[{\"id\":\"call_5c05a3762efa46c9bdd328\",\"function\":{\"arguments\":\"{\\\"location\\\": \\\"上海\\\"}\",\"name\":\"get_current_weather\"},\"type\":\"function\",\"index\":0}]}\n",
      "\n",
      "\n"
     ]
    }
   ],
   "source": [
    "from openai import OpenAI\n",
    "import os\n",
    "\n",
    "client = OpenAI(\n",
    "    api_key = os.getenv(\"DASHSCOPE_API_KEY\"),\n",
    "    base_url = \"https://dashscope.aliyuncs.com/compatible-mode/v1\",\n",
    ")\n",
    "\n",
    "def function_call():\n",
    "    completion = client.chat.completions.create(\n",
    "        model = \"qwen-plus\",\n",
    "        messages = messages,\n",
    "        tools = tools,\n",
    "    )\n",
    "    print(\"返回对象: \")\n",
    "    print(completion.choices[0].message.model_dump_json())\n",
    "    print(\"\\n\")\n",
    "    return completion\n",
    "\n",
    "print(\"正在发起function calling...\")    \n",
    "completion = function_call()"
   ]
  },
  {
   "cell_type": "code",
   "execution_count": 19,
   "id": "bd14f661-0e11-43c5-b015-a82244704e52",
   "metadata": {},
   "outputs": [
    {
     "name": "stdout",
     "output_type": "stream",
     "text": [
      "正在执行工具函数...\n",
      "工具函数输出：上海今天是雨天。\n"
     ]
    }
   ],
   "source": [
    "import json\n",
    "\n",
    "print(\"正在执行工具函数...\")\n",
    "\n",
    "function = completion.choices[0].message.tool_calls[0].function\n",
    "function_name = function.name\n",
    "function_arguments = function.arguments\n",
    "\n",
    "arguments = json.loads(function_arguments)\n",
    "\n",
    "function_mapper = {\n",
    "    'get_current_time': get_current_time,\n",
    "    'get_current_weather': get_current_weather\n",
    "}\n",
    "\n",
    "function = function_mapper[function_name]\n",
    "if arguments == {}:\n",
    "    function_output = function()\n",
    "else:\n",
    "    function_output = function(arguments)\n",
    "\n",
    "print(f\"工具函数输出：{function_output}\")    "
   ]
  },
  {
   "cell_type": "code",
   "execution_count": null,
   "id": "1be9e9cf-c2fe-4edd-9858-e3c04792ad8e",
   "metadata": {},
   "outputs": [],
   "source": []
  }
 ],
 "metadata": {
  "kernelspec": {
   "display_name": "Python 3 (ipykernel)",
   "language": "python",
   "name": "python3"
  },
  "language_info": {
   "codemirror_mode": {
    "name": "ipython",
    "version": 3
   },
   "file_extension": ".py",
   "mimetype": "text/x-python",
   "name": "python",
   "nbconvert_exporter": "python",
   "pygments_lexer": "ipython3",
   "version": "3.10.0"
  }
 },
 "nbformat": 4,
 "nbformat_minor": 5
}
